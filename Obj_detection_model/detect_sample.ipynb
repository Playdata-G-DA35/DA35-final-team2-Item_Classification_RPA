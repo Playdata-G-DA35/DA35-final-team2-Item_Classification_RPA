{
 "cells": [
  {
   "cell_type": "code",
   "execution_count": null,
   "metadata": {},
   "outputs": [],
   "source": [
    "#!pip install -r requirements.txt "
   ]
  },
  {
   "cell_type": "code",
   "execution_count": null,
   "metadata": {},
   "outputs": [],
   "source": [
    "%pwd"
   ]
  },
  {
   "cell_type": "code",
   "execution_count": null,
   "metadata": {},
   "outputs": [],
   "source": [
    "#%cd yolov5\n",
    "#%pwd"
   ]
  },
  {
   "cell_type": "code",
   "execution_count": 1,
   "metadata": {},
   "outputs": [
    {
     "name": "stderr",
     "output_type": "stream",
     "text": [
      "\u001b[34m\u001b[1mdetect: \u001b[0mweights=['yolov5/weights/yolo_best.pt'], source=../dataset/detection_sample/, data=yolov5\\data\\coco128.yaml, imgsz=[640, 640], conf_thres=0.25, iou_thres=0.45, max_det=1000, device=, view_img=False, save_txt=True, save_csv=False, save_conf=False, save_crop=False, nosave=False, classes=None, agnostic_nms=False, augment=False, visualize=False, update=False, project=yolov5\\runs\\detect, name=exp, exist_ok=False, line_thickness=3, hide_labels=False, hide_conf=False, half=False, dnn=False, vid_stride=1\n",
      "YOLOv5  2024-7-31 Python-3.11.8 torch-2.4.0+cpu CPU\n",
      "\n",
      "Traceback (most recent call last):\n",
      "  File \"c:\\Dev\\RPA_proj_main\\Obj_detection_model\\yolov5\\detect.py\", line 425, in <module>\n",
      "    main(opt)\n",
      "  File \"c:\\Dev\\RPA_proj_main\\Obj_detection_model\\yolov5\\detect.py\", line 420, in main\n",
      "    run(**vars(opt))\n",
      "  File \"c:\\Users\\Ino\\anaconda3\\envs\\RPA_proj\\Lib\\site-packages\\torch\\utils\\_contextlib.py\", line 116, in decorate_context\n",
      "    return func(*args, **kwargs)\n",
      "           ^^^^^^^^^^^^^^^^^^^^^\n",
      "  File \"c:\\Dev\\RPA_proj_main\\Obj_detection_model\\yolov5\\detect.py\", line 165, in run\n",
      "    model = DetectMultiBackend(weights, device=device, dnn=dnn, data=data, fp16=half)\n",
      "            ^^^^^^^^^^^^^^^^^^^^^^^^^^^^^^^^^^^^^^^^^^^^^^^^^^^^^^^^^^^^^^^^^^^^^^^^^\n",
      "  File \"c:\\Dev\\RPA_proj_main\\Obj_detection_model\\yolov5\\models\\common.py\", line 467, in __init__\n",
      "    model = attempt_load(weights if isinstance(weights, list) else w, device=device, inplace=True, fuse=fuse)\n",
      "            ^^^^^^^^^^^^^^^^^^^^^^^^^^^^^^^^^^^^^^^^^^^^^^^^^^^^^^^^^^^^^^^^^^^^^^^^^^^^^^^^^^^^^^^^^^^^^^^^^\n",
      "  File \"c:\\Dev\\RPA_proj_main\\Obj_detection_model\\yolov5\\models\\experimental.py\", line 98, in attempt_load\n",
      "    ckpt = torch.load(attempt_download(w), map_location=\"cpu\")  # load\n",
      "           ^^^^^^^^^^^^^^^^^^^^^^^^^^^^^^^^^^^^^^^^^^^^^^^^^^^\n",
      "  File \"c:\\Users\\Ino\\anaconda3\\envs\\RPA_proj\\Lib\\site-packages\\ultralytics\\utils\\patches.py\", line 86, in torch_load\n",
      "    return _torch_load(*args, **kwargs)\n",
      "           ^^^^^^^^^^^^^^^^^^^^^^^^^^^^\n",
      "  File \"c:\\Users\\Ino\\anaconda3\\envs\\RPA_proj\\Lib\\site-packages\\torch\\serialization.py\", line 1065, in load\n",
      "    with _open_file_like(f, 'rb') as opened_file:\n",
      "         ^^^^^^^^^^^^^^^^^^^^^^^^\n",
      "  File \"c:\\Users\\Ino\\anaconda3\\envs\\RPA_proj\\Lib\\site-packages\\torch\\serialization.py\", line 468, in _open_file_like\n",
      "    return _open_file(name_or_buffer, mode)\n",
      "           ^^^^^^^^^^^^^^^^^^^^^^^^^^^^^^^^\n",
      "  File \"c:\\Users\\Ino\\anaconda3\\envs\\RPA_proj\\Lib\\site-packages\\torch\\serialization.py\", line 449, in __init__\n",
      "    super().__init__(open(name, mode))\n",
      "                     ^^^^^^^^^^^^^^^^\n",
      "FileNotFoundError: [Errno 2] No such file or directory: 'yolov5\\\\weights\\\\yolo_best.pt'\n"
     ]
    }
   ],
   "source": [
    "!python yolov5/detect.py --weight yolov5/weights/yolo_best.pt --source ../dataset/detection_sample/ --save-txt"
   ]
  },
  {
   "cell_type": "code",
   "execution_count": 3,
   "metadata": {},
   "outputs": [
    {
     "name": "stderr",
     "output_type": "stream",
     "text": [
      "\u001b[34m\u001b[1mdetect: \u001b[0mweights=['yolov5/yolov5s.pt'], source=../dataset/detection_sample/, data=yolov5\\data\\coco128.yaml, imgsz=[640, 640], conf_thres=0.25, iou_thres=0.45, max_det=1000, device=, view_img=False, save_txt=True, save_csv=False, save_conf=False, save_crop=False, nosave=False, classes=None, agnostic_nms=False, augment=False, visualize=False, update=False, project=yolov5\\runs\\detect, name=exp, exist_ok=False, line_thickness=3, hide_labels=False, hide_conf=False, half=False, dnn=False, vid_stride=1\n",
      "YOLOv5  2024-7-31 Python-3.11.8 torch-2.4.0+cpu CPU\n",
      "\n",
      "Fusing layers... \n",
      "YOLOv5s summary: 213 layers, 7225885 parameters, 0 gradients, 16.4 GFLOPs\n",
      "image 1/100 C:\\Dev\\RPA_proj_main\\dataset\\detection_sample\\long_cotton_0.jpg: 640x544 (no detections), 476.4ms\n",
      "image 2/100 C:\\Dev\\RPA_proj_main\\dataset\\detection_sample\\long_cotton_1.jpg: 640x544 (no detections), 404.1ms\n",
      "image 3/100 C:\\Dev\\RPA_proj_main\\dataset\\detection_sample\\long_cotton_10.jpg: 640x544 1 person, 400.1ms\n",
      "image 4/100 C:\\Dev\\RPA_proj_main\\dataset\\detection_sample\\long_cotton_11.jpg: 640x544 (no detections), 407.5ms\n",
      "image 5/100 C:\\Dev\\RPA_proj_main\\dataset\\detection_sample\\long_cotton_12.jpg: 640x544 1 person, 428.8ms\n",
      "image 6/100 C:\\Dev\\RPA_proj_main\\dataset\\detection_sample\\long_cotton_13.jpg: 640x544 1 person, 399.9ms\n",
      "image 7/100 C:\\Dev\\RPA_proj_main\\dataset\\detection_sample\\long_cotton_14.jpg: 640x544 1 person, 5 books, 418.5ms\n",
      "image 8/100 C:\\Dev\\RPA_proj_main\\dataset\\detection_sample\\long_cotton_15.jpg: 640x544 1 person, 542.3ms\n",
      "image 9/100 C:\\Dev\\RPA_proj_main\\dataset\\detection_sample\\long_cotton_16.jpg: 640x576 (no detections), 432.6ms\n",
      "image 10/100 C:\\Dev\\RPA_proj_main\\dataset\\detection_sample\\long_cotton_17.jpg: 640x544 1 surfboard, 406.8ms\n",
      "image 11/100 C:\\Dev\\RPA_proj_main\\dataset\\detection_sample\\long_cotton_18.jpg: 640x544 (no detections), 408.3ms\n",
      "image 12/100 C:\\Dev\\RPA_proj_main\\dataset\\detection_sample\\long_cotton_19.jpg: 640x544 1 person, 399.5ms\n",
      "image 13/100 C:\\Dev\\RPA_proj_main\\dataset\\detection_sample\\long_cotton_2.jpg: 640x544 1 person, 524.5ms\n",
      "image 14/100 C:\\Dev\\RPA_proj_main\\dataset\\detection_sample\\long_cotton_20.jpg: 640x544 1 person, 403.5ms\n",
      "image 15/100 C:\\Dev\\RPA_proj_main\\dataset\\detection_sample\\long_cotton_21.jpg: 640x544 1 person, 403.0ms\n",
      "image 16/100 C:\\Dev\\RPA_proj_main\\dataset\\detection_sample\\long_cotton_22.jpg: 640x544 1 person, 404.7ms\n",
      "image 17/100 C:\\Dev\\RPA_proj_main\\dataset\\detection_sample\\long_cotton_23.jpg: 640x544 1 person, 432.2ms\n",
      "image 18/100 C:\\Dev\\RPA_proj_main\\dataset\\detection_sample\\long_cotton_24.jpg: 640x544 1 person, 433.8ms\n",
      "image 19/100 C:\\Dev\\RPA_proj_main\\dataset\\detection_sample\\long_cotton_25.jpg: 640x544 1 person, 416.1ms\n",
      "image 20/100 C:\\Dev\\RPA_proj_main\\dataset\\detection_sample\\long_cotton_26.jpg: 640x544 1 person, 306.4ms\n",
      "image 21/100 C:\\Dev\\RPA_proj_main\\dataset\\detection_sample\\long_cotton_27.jpg: 640x544 (no detections), 335.1ms\n",
      "image 22/100 C:\\Dev\\RPA_proj_main\\dataset\\detection_sample\\long_cotton_28.jpg: 640x544 (no detections), 356.8ms\n",
      "image 23/100 C:\\Dev\\RPA_proj_main\\dataset\\detection_sample\\long_cotton_29.jpg: 640x544 1 person, 1 tie, 338.6ms\n",
      "image 24/100 C:\\Dev\\RPA_proj_main\\dataset\\detection_sample\\long_cotton_3.jpg: 640x576 1 person, 350.0ms\n",
      "image 25/100 C:\\Dev\\RPA_proj_main\\dataset\\detection_sample\\long_cotton_30.jpg: 640x544 1 person, 380.5ms\n",
      "image 26/100 C:\\Dev\\RPA_proj_main\\dataset\\detection_sample\\long_cotton_31.jpg: 640x544 (no detections), 359.2ms\n",
      "image 27/100 C:\\Dev\\RPA_proj_main\\dataset\\detection_sample\\long_cotton_32.jpg: 640x544 1 person, 369.7ms\n",
      "image 28/100 C:\\Dev\\RPA_proj_main\\dataset\\detection_sample\\long_cotton_33.jpg: 640x544 (no detections), 359.9ms\n",
      "image 29/100 C:\\Dev\\RPA_proj_main\\dataset\\detection_sample\\long_cotton_34.jpg: 640x544 1 person, 368.3ms\n",
      "image 30/100 C:\\Dev\\RPA_proj_main\\dataset\\detection_sample\\long_cotton_35.jpg: 640x544 1 person, 355.8ms\n",
      "image 31/100 C:\\Dev\\RPA_proj_main\\dataset\\detection_sample\\long_cotton_36.jpg: 640x544 (no detections), 351.1ms\n",
      "image 32/100 C:\\Dev\\RPA_proj_main\\dataset\\detection_sample\\long_cotton_37.jpg: 640x544 1 person, 367.5ms\n",
      "image 33/100 C:\\Dev\\RPA_proj_main\\dataset\\detection_sample\\long_cotton_38.jpg: 640x544 1 person, 348.8ms\n",
      "image 34/100 C:\\Dev\\RPA_proj_main\\dataset\\detection_sample\\long_cotton_39.jpg: 640x544 1 person, 345.8ms\n",
      "image 35/100 C:\\Dev\\RPA_proj_main\\dataset\\detection_sample\\long_cotton_4.jpg: 640x544 (no detections), 361.2ms\n",
      "image 36/100 C:\\Dev\\RPA_proj_main\\dataset\\detection_sample\\long_cotton_40.jpg: 640x544 (no detections), 355.6ms\n",
      "image 37/100 C:\\Dev\\RPA_proj_main\\dataset\\detection_sample\\long_cotton_41.jpg: 640x544 1 person, 339.5ms\n",
      "image 38/100 C:\\Dev\\RPA_proj_main\\dataset\\detection_sample\\long_cotton_42.jpg: 640x544 (no detections), 348.5ms\n",
      "image 39/100 C:\\Dev\\RPA_proj_main\\dataset\\detection_sample\\long_cotton_43.jpg: 640x544 1 person, 301.6ms\n",
      "image 40/100 C:\\Dev\\RPA_proj_main\\dataset\\detection_sample\\long_cotton_44.jpg: 640x544 1 person, 311.0ms\n",
      "image 41/100 C:\\Dev\\RPA_proj_main\\dataset\\detection_sample\\long_cotton_45.jpg: 640x544 1 person, 317.4ms\n",
      "image 42/100 C:\\Dev\\RPA_proj_main\\dataset\\detection_sample\\long_cotton_46.jpg: 640x544 1 person, 341.1ms\n",
      "image 43/100 C:\\Dev\\RPA_proj_main\\dataset\\detection_sample\\long_cotton_47.jpg: 640x544 (no detections), 324.7ms\n",
      "image 44/100 C:\\Dev\\RPA_proj_main\\dataset\\detection_sample\\long_cotton_48.jpg: 640x544 1 person, 317.2ms\n",
      "image 45/100 C:\\Dev\\RPA_proj_main\\dataset\\detection_sample\\long_cotton_49.jpg: 640x544 1 person, 329.5ms\n",
      "image 46/100 C:\\Dev\\RPA_proj_main\\dataset\\detection_sample\\long_cotton_5.jpg: 640x576 4 persons, 325.4ms\n",
      "image 47/100 C:\\Dev\\RPA_proj_main\\dataset\\detection_sample\\long_cotton_50.jpg: 640x544 1 person, 310.3ms\n",
      "image 48/100 C:\\Dev\\RPA_proj_main\\dataset\\detection_sample\\long_cotton_51.jpg: 640x576 (no detections), 330.2ms\n",
      "image 49/100 C:\\Dev\\RPA_proj_main\\dataset\\detection_sample\\long_cotton_52.jpg: 640x544 1 person, 356.4ms\n",
      "image 50/100 C:\\Dev\\RPA_proj_main\\dataset\\detection_sample\\long_cotton_53.jpg: 640x544 1 person, 331.0ms\n",
      "image 51/100 C:\\Dev\\RPA_proj_main\\dataset\\detection_sample\\long_cotton_54.jpg: 640x544 1 person, 338.4ms\n",
      "image 52/100 C:\\Dev\\RPA_proj_main\\dataset\\detection_sample\\long_cotton_55.jpg: 640x544 1 person, 330.0ms\n",
      "image 53/100 C:\\Dev\\RPA_proj_main\\dataset\\detection_sample\\long_cotton_56.jpg: 640x544 1 person, 326.1ms\n",
      "image 54/100 C:\\Dev\\RPA_proj_main\\dataset\\detection_sample\\long_cotton_57.jpg: 640x544 1 person, 338.9ms\n",
      "image 55/100 C:\\Dev\\RPA_proj_main\\dataset\\detection_sample\\long_cotton_58.jpg: 640x544 1 person, 350.2ms\n",
      "image 56/100 C:\\Dev\\RPA_proj_main\\dataset\\detection_sample\\long_cotton_59.jpg: 640x544 (no detections), 320.4ms\n",
      "image 57/100 C:\\Dev\\RPA_proj_main\\dataset\\detection_sample\\long_cotton_6.jpg: 640x544 1 person, 301.0ms\n",
      "image 58/100 C:\\Dev\\RPA_proj_main\\dataset\\detection_sample\\long_cotton_60.jpg: 640x544 1 person, 305.9ms\n",
      "image 59/100 C:\\Dev\\RPA_proj_main\\dataset\\detection_sample\\long_cotton_61.jpg: 640x544 1 person, 313.8ms\n",
      "image 60/100 C:\\Dev\\RPA_proj_main\\dataset\\detection_sample\\long_cotton_62.jpg: 640x544 (no detections), 327.8ms\n",
      "image 61/100 C:\\Dev\\RPA_proj_main\\dataset\\detection_sample\\long_cotton_63.jpg: 640x544 1 person, 1 tie, 317.1ms\n",
      "image 62/100 C:\\Dev\\RPA_proj_main\\dataset\\detection_sample\\long_cotton_64.jpg: 640x544 1 person, 305.0ms\n",
      "image 63/100 C:\\Dev\\RPA_proj_main\\dataset\\detection_sample\\long_cotton_65.jpg: 640x544 1 person, 355.6ms\n",
      "image 64/100 C:\\Dev\\RPA_proj_main\\dataset\\detection_sample\\long_cotton_66.jpg: 640x544 1 person, 332.3ms\n",
      "image 65/100 C:\\Dev\\RPA_proj_main\\dataset\\detection_sample\\long_cotton_67.jpg: 640x544 1 person, 371.7ms\n",
      "image 66/100 C:\\Dev\\RPA_proj_main\\dataset\\detection_sample\\long_cotton_68.jpg: 640x544 1 person, 348.9ms\n",
      "image 67/100 C:\\Dev\\RPA_proj_main\\dataset\\detection_sample\\long_cotton_69.jpg: 640x544 1 person, 341.5ms\n",
      "image 68/100 C:\\Dev\\RPA_proj_main\\dataset\\detection_sample\\long_cotton_7.jpg: 640x544 1 person, 469.2ms\n",
      "image 69/100 C:\\Dev\\RPA_proj_main\\dataset\\detection_sample\\long_cotton_70.jpg: 640x544 1 person, 390.5ms\n",
      "image 70/100 C:\\Dev\\RPA_proj_main\\dataset\\detection_sample\\long_cotton_71.jpg: 640x544 1 person, 426.0ms\n",
      "image 71/100 C:\\Dev\\RPA_proj_main\\dataset\\detection_sample\\long_cotton_72.jpg: 640x544 1 person, 400.5ms\n",
      "image 72/100 C:\\Dev\\RPA_proj_main\\dataset\\detection_sample\\long_cotton_73.jpg: 640x544 1 person, 405.0ms\n",
      "image 73/100 C:\\Dev\\RPA_proj_main\\dataset\\detection_sample\\long_cotton_74.jpg: 640x544 1 person, 338.2ms\n",
      "image 74/100 C:\\Dev\\RPA_proj_main\\dataset\\detection_sample\\long_cotton_75.jpg: 640x544 1 person, 324.9ms\n",
      "image 75/100 C:\\Dev\\RPA_proj_main\\dataset\\detection_sample\\long_cotton_76.jpg: 640x544 1 person, 350.7ms\n",
      "image 76/100 C:\\Dev\\RPA_proj_main\\dataset\\detection_sample\\long_cotton_77.jpg: 640x544 (no detections), 318.6ms\n",
      "image 77/100 C:\\Dev\\RPA_proj_main\\dataset\\detection_sample\\long_cotton_78.jpg: 640x544 1 person, 417.8ms\n",
      "image 78/100 C:\\Dev\\RPA_proj_main\\dataset\\detection_sample\\long_cotton_79.jpg: 640x544 1 person, 356.2ms\n",
      "image 79/100 C:\\Dev\\RPA_proj_main\\dataset\\detection_sample\\long_cotton_8.jpg: 640x544 (no detections), 365.0ms\n",
      "image 80/100 C:\\Dev\\RPA_proj_main\\dataset\\detection_sample\\long_cotton_80.jpg: 640x544 1 person, 333.5ms\n",
      "image 81/100 C:\\Dev\\RPA_proj_main\\dataset\\detection_sample\\long_cotton_81.jpg: 640x544 1 person, 350.2ms\n",
      "image 82/100 C:\\Dev\\RPA_proj_main\\dataset\\detection_sample\\long_cotton_82.jpg: 640x544 1 tie, 327.3ms\n",
      "image 83/100 C:\\Dev\\RPA_proj_main\\dataset\\detection_sample\\long_cotton_83.jpg: 640x544 1 person, 324.8ms\n",
      "image 84/100 C:\\Dev\\RPA_proj_main\\dataset\\detection_sample\\long_cotton_84.jpg: 640x544 1 person, 323.2ms\n",
      "image 85/100 C:\\Dev\\RPA_proj_main\\dataset\\detection_sample\\long_cotton_85.jpg: 640x544 1 person, 402.1ms\n",
      "image 86/100 C:\\Dev\\RPA_proj_main\\dataset\\detection_sample\\long_cotton_86.jpg: 640x512 (no detections), 288.4ms\n",
      "image 87/100 C:\\Dev\\RPA_proj_main\\dataset\\detection_sample\\long_cotton_87.jpg: 640x544 (no detections), 345.8ms\n",
      "image 88/100 C:\\Dev\\RPA_proj_main\\dataset\\detection_sample\\long_cotton_88.jpg: 640x544 1 person, 315.4ms\n",
      "image 89/100 C:\\Dev\\RPA_proj_main\\dataset\\detection_sample\\long_cotton_89.jpg: 640x544 1 person, 317.4ms\n",
      "image 90/100 C:\\Dev\\RPA_proj_main\\dataset\\detection_sample\\long_cotton_9.jpg: 640x544 (no detections), 292.8ms\n",
      "image 91/100 C:\\Dev\\RPA_proj_main\\dataset\\detection_sample\\long_cotton_90.jpg: 640x544 (no detections), 340.1ms\n",
      "image 92/100 C:\\Dev\\RPA_proj_main\\dataset\\detection_sample\\long_cotton_91.jpg: 640x544 1 person, 1 clock, 341.3ms\n",
      "image 93/100 C:\\Dev\\RPA_proj_main\\dataset\\detection_sample\\long_cotton_92.jpg: 640x544 1 person, 301.5ms\n",
      "image 94/100 C:\\Dev\\RPA_proj_main\\dataset\\detection_sample\\long_cotton_93.jpg: 640x544 1 person, 299.3ms\n",
      "image 95/100 C:\\Dev\\RPA_proj_main\\dataset\\detection_sample\\long_cotton_94.jpg: 640x544 1 person, 314.8ms\n",
      "image 96/100 C:\\Dev\\RPA_proj_main\\dataset\\detection_sample\\long_cotton_95.jpg: 640x544 1 tie, 302.6ms\n",
      "image 97/100 C:\\Dev\\RPA_proj_main\\dataset\\detection_sample\\long_cotton_96.jpg: 640x544 1 person, 388.0ms\n",
      "image 98/100 C:\\Dev\\RPA_proj_main\\dataset\\detection_sample\\long_cotton_97.jpg: 640x544 (no detections), 415.8ms\n",
      "image 99/100 C:\\Dev\\RPA_proj_main\\dataset\\detection_sample\\long_cotton_98.jpg: 640x544 1 person, 391.3ms\n",
      "image 100/100 C:\\Dev\\RPA_proj_main\\dataset\\detection_sample\\long_cotton_99.jpg: 640x544 1 person, 1 tie, 404.2ms\n",
      "Speed: 2.0ms pre-process, 360.4ms inference, 1.4ms NMS per image at shape (1, 3, 640, 640)\n",
      "Results saved to \u001b[1myolov5\\runs\\detect\\exp2\u001b[0m\n",
      "76 labels saved to yolov5\\runs\\detect\\exp2\\labels\n"
     ]
    }
   ],
   "source": [
    "!python yolov5/detect.py --weight yolov5/yolov5s.pt --source ../dataset/detection_sample/ --save-txt"
   ]
  }
 ],
 "metadata": {
  "kernelspec": {
   "display_name": "RPA_proj",
   "language": "python",
   "name": "python3"
  },
  "language_info": {
   "codemirror_mode": {
    "name": "ipython",
    "version": 3
   },
   "file_extension": ".py",
   "mimetype": "text/x-python",
   "name": "python",
   "nbconvert_exporter": "python",
   "pygments_lexer": "ipython3",
   "version": "3.11.8"
  }
 },
 "nbformat": 4,
 "nbformat_minor": 2
}
