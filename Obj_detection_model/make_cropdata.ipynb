{
 "cells": [
  {
   "cell_type": "code",
   "execution_count": 30,
   "metadata": {},
   "outputs": [
    {
     "name": "stdout",
     "output_type": "stream",
     "text": [
      "{'long_cotton': '../dataset/musinsa_dataset/bottom/long_cotton', 'long_denim': '../dataset/musinsa_dataset/bottom/long_denim', 'long_skirt': '../dataset/musinsa_dataset/bottom/long_skirt', 'long_slacks': '../dataset/musinsa_dataset/bottom/long_slacks', 'midi_skirt': '../dataset/musinsa_dataset/bottom/midi_skirt', 'mini_skirt': '../dataset/musinsa_dataset/bottom/mini_skirt', 'shorts': '../dataset/musinsa_dataset/bottom/shorts', 'jump_suite': '../dataset/musinsa_dataset/onepiece/jump_suite', 'maxi_onepiece': '../dataset/musinsa_dataset/onepiece/maxi_onepiece', 'midi_onepiece': '../dataset/musinsa_dataset/onepiece/midi_onepiece', 'mini_onepiece': '../dataset/musinsa_dataset/onepiece/mini_onepiece', 'half_sleeve': '../dataset/musinsa_dataset/top/half_sleeve', 'hood': '../dataset/musinsa_dataset/top/hood', 'knit_sweater': '../dataset/musinsa_dataset/top/knit_sweater', 'longsleeve': '../dataset/musinsa_dataset/top/longsleeve', 'shirts_blouse': '../dataset/musinsa_dataset/top/shirts_blouse', 'sleeveless': '../dataset/musinsa_dataset/top/sleeveless', 'sweatshirts': '../dataset/musinsa_dataset/top/sweatshirts'}\n"
     ]
    }
   ],
   "source": [
    "import os\n",
    "bottom_list = os.listdir('../dataset/musinsa_dataset/bottom')\n",
    "onepiece_list = os.listdir('../dataset/musinsa_dataset/onepiece')\n",
    "top_list = os.listdir('../dataset/musinsa_dataset/top')\n",
    "\n",
    "source_dict = {}\n",
    "for name in bottom_list:\n",
    "    source_dict[f'{name}'] = '../dataset/musinsa_dataset/bottom/' + name\n",
    "\n",
    "for name in onepiece_list:\n",
    "    source_dict[f'{name}'] = '../dataset/musinsa_dataset/onepiece/' + name\n",
    "\n",
    "for name in top_list:\n",
    "    source_dict[f'{name}'] = '../dataset/musinsa_dataset/top/' + name\n",
    "\n",
    "print(source_dict)"
   ]
  },
  {
   "cell_type": "code",
   "execution_count": 31,
   "metadata": {},
   "outputs": [
    {
     "data": {
      "text/plain": [
       "'c:\\\\Users\\\\ihman\\\\Desktop\\\\Dev\\\\RPA_proj_local\\\\Obj_detection_model'"
      ]
     },
     "execution_count": 31,
     "metadata": {},
     "output_type": "execute_result"
    }
   ],
   "source": [
    "%pwd"
   ]
  },
  {
   "cell_type": "code",
   "execution_count": 32,
   "metadata": {},
   "outputs": [],
   "source": [
    "# gpu면 device 0, cpu는 지우고 실행\n",
    "\n",
    "#for name, path in source_dict.items():\n",
    "#    os.system(f'python yolov5/detect.py --source {path} --weights exp_result/s_40000_(batch48_100epoch_10.4hr)/weights/last.pt --conf 0.4 --save-txt --save-csv --save-crop --nosave --name {name} --device 0')"
   ]
  },
  {
   "cell_type": "code",
   "execution_count": 33,
   "metadata": {},
   "outputs": [
    {
     "data": {
      "text/plain": [
       "0"
      ]
     },
     "execution_count": 33,
     "metadata": {},
     "output_type": "execute_result"
    }
   ],
   "source": [
    "# test set 실행\n",
    "os.system(f'python yolov5/detect.py --source ../dataset/test_set --weights exp_result/s_20000_3(batch_32_80epoch_4.2hr)/weights/last.pt --conf 0.4 --save-txt --save-csv --save-crop --name test_set(use_20000) --device 0')"
   ]
  },
  {
   "cell_type": "code",
   "execution_count": 34,
   "metadata": {},
   "outputs": [
    {
     "data": {
      "text/plain": [
       "0"
      ]
     },
     "execution_count": 34,
     "metadata": {},
     "output_type": "execute_result"
    }
   ],
   "source": [
    "# test set 실행\n",
    "os.system(f'python yolov5/detect.py --source ../dataset/test_set --weights exp_result/s_40000_(batch48_100epoch_10.4hr)/weights/last.pt --conf 0.4 --save-txt --save-csv --save-crop --name test_set(use_40000) --device 0')"
   ]
  }
 ],
 "metadata": {
  "kernelspec": {
   "display_name": "yolov5",
   "language": "python",
   "name": "python3"
  },
  "language_info": {
   "codemirror_mode": {
    "name": "ipython",
    "version": 3
   },
   "file_extension": ".py",
   "mimetype": "text/x-python",
   "name": "python",
   "nbconvert_exporter": "python",
   "pygments_lexer": "ipython3",
   "version": "3.11.8"
  }
 },
 "nbformat": 4,
 "nbformat_minor": 2
}
