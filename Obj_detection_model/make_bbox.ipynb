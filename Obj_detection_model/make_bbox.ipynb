{
 "cells": [
  {
   "cell_type": "code",
   "execution_count": 11,
   "metadata": {},
   "outputs": [],
   "source": [
    "import cv2\n",
    "import sys\n",
    "import numpy as np\n",
    "import os\n",
    "import glob\n",
    "from matplotlib import pyplot as plt\n",
    "import shutil"
   ]
  },
  {
   "cell_type": "code",
   "execution_count": 2,
   "metadata": {},
   "outputs": [],
   "source": [
    "# https://youbidan.tistory.com/19"
   ]
  },
  {
   "cell_type": "code",
   "execution_count": 3,
   "metadata": {},
   "outputs": [],
   "source": [
    "def make_bbox_label(img_path, save_path, label_true):\n",
    "    image = cv2.imread(img_path)\n",
    "    image_gray = cv2.imread(img_path, cv2.IMREAD_GRAYSCALE)\n",
    "\n",
    "    # 원본 이미지 표시\n",
    "    #cv2.imshow('image', cv2.resize(image, dsize = (0, 0), fx = 0.5, fy = 0.5))\n",
    "    #cv2.waitKey(0)\n",
    "    #cv2.destroyAllWindows()\n",
    "\n",
    "    # grayscale 이미지 표시\n",
    "    #cv2.imshow('image_gray', cv2.resize(image_gray, dsize = (0, 0), fx = 0.5, fy = 0.5)) \n",
    "    #cv2.waitKey(0)\n",
    "    #cv2.destroyAllWindows()\n",
    "\n",
    "    blur = cv2.GaussianBlur(image_gray, ksize=(3,3), sigmaX=0)\n",
    "    ret, thresh1 = cv2.threshold(blur, 127, 255, cv2.THRESH_BINARY)\n",
    "\n",
    "    # canny edge 이미지\n",
    "    edged = cv2.Canny(blur, 10, 250)\n",
    "    #cv2.imshow('Edged', cv2.resize(edged, dsize = (0, 0), fx = 0.5, fy = 0.5))\n",
    "    #cv2.waitKey(0)\n",
    "\n",
    "    # closed 이미지\n",
    "    kernel = cv2.getStructuringElement(cv2.MORPH_RECT, (7,7))\n",
    "    closed = cv2.morphologyEx(edged, cv2.MORPH_CLOSE, kernel)\n",
    "    #cv2.imshow('closed', cv2.resize(closed, dsize = (0, 0), fx = 0.5, fy = 0.5))\n",
    "    #cv2.waitKey(0)\n",
    "\n",
    "    # contour 생성\n",
    "    contours, _ = cv2.findContours(closed.copy(),cv2.RETR_EXTERNAL, cv2.CHAIN_APPROX_SIMPLE)\n",
    "    total = 0\n",
    "\n",
    "    # 이미지에 컨투어 표시\n",
    "    #contours_image = cv2.drawContours(image, contours, -1, (0,255,0), 3)\n",
    "    #cv2.imshow('contours_image', cv2.resize(contours_image, dsize = (0, 0), fx = 0.5, fy = 0.5))\n",
    "    #cv2.waitKey(0)\n",
    "    #cv2.destroyAllWindows()\n",
    "\n",
    "    contours_xy = np.array(contours)\n",
    "    #print(contours_xy)\n",
    "    contours_xy.shape\n",
    "\n",
    "    # x의 min과 max 찾기\n",
    "    x_min, x_max = 0, 0\n",
    "    value = list()\n",
    "    # for i in range(len(contours)) 형태로 변경\n",
    "    for i in range(len(contours_xy)):\n",
    "        for j in range(len(contours_xy[i])):\n",
    "            value.append(contours_xy[i][j][0][0]) #네번째 괄호가 0일때 x의 값\n",
    "            x_min = min(value)\n",
    "            x_max = max(value)\n",
    "    #print(x_min)\n",
    "    #print(x_max)\n",
    " \n",
    "    # y의 min과 max 찾기\n",
    "    y_min, y_max = 0, 0\n",
    "    value = list()\n",
    "    for i in range(len(contours_xy)):\n",
    "        for j in range(len(contours_xy[i])):\n",
    "            value.append(contours_xy[i][j][0][1]) #네번째 괄호가 0일때 x의 값\n",
    "            y_min = min(value)\n",
    "            y_max = max(value)\n",
    "    #print(y_min)\n",
    "    #print(y_max)\n",
    "\n",
    "    # 이미지에 bbox 표시\n",
    "    boxed_image = cv2.rectangle(image.copy(), (x_min, y_min), (x_max, y_max), (0,255,0), 3)\n",
    "    #cv2.imshow('boxed_image', cv2.resize(boxed_image, dsize = (0, 0), fx = 0.5, fy = 0.5))\n",
    "    #cv2.waitKey(0)\n",
    "    #cv2.destroyAllWindows()\n",
    "\n",
    "    # image trim 하기\n",
    "    x = x_min\n",
    "    y = y_min\n",
    "    w = x_max-x_min\n",
    "    h = y_max-y_min\n",
    "\n",
    "    # crop한 이미지 저장\n",
    "    croped_img = image[y:y+h, x:x+w]\n",
    "    file_name = img_path.split('\\\\')[-1]\n",
    "    #cv2.imwrite(f'{save_path}/{file_name}', croped_img)\n",
    "    #croped_image = cv2.imread('croped_img.jpg')\n",
    "\n",
    "    #cv2.imshow('croped_image', cv2.resize(org_image, dsize = (0, 0), fx = 0.5, fy = 0.5))\n",
    "    #cv2.waitKey(0)\n",
    "    cv2.destroyAllWindows()\n",
    "\n",
    "    # yolov5 형식으로 txt 파일 저장\n",
    "    yolo_x = ((x_min + x_max)*0.5)/image.shape[1]\n",
    "    yolo_y = ((y_min + y_max)*0.5)/image.shape[0]\n",
    "    yolo_w = ((x_max - x_min))/image.shape[1]\n",
    "    yolo_h = ((y_max - y_min))/image.shape[0]\n",
    "\n",
    "    # 이미지의 클래스 추가해야함\n",
    "    with open(f'{save_path}/{file_name[:-4]}.txt', 'w') as file:\n",
    "        file.write(f'{label_true} {yolo_x} {yolo_y} {yolo_w} {yolo_h}')"
   ]
  },
  {
   "cell_type": "code",
   "execution_count": 4,
   "metadata": {},
   "outputs": [],
   "source": [
    "def check_bbox(img_path, txt_path):\n",
    "    img = cv2.imread(img_path)\n",
    "    file_name = img_path.split('\\\\')[-1]\n",
    "    with open(f'{txt_path}/{file_name[:-4]}.txt') as file:\n",
    "        label_list = file.read().split(' ')\n",
    "\n",
    "    img_w = float(img.shape[1])\n",
    "    img_h = float(img.shape[0])\n",
    "\n",
    "    x = img_w*(float(label_list[1]) - 0.5*float(label_list[3]))\n",
    "    y = img_h*(float(label_list[2]) - 0.5*float(label_list[4]))\n",
    "    w = img_w*float(label_list[3])\n",
    "    h = img_h*float(label_list[4])\n",
    "    \n",
    "    cv2.rectangle(img, (int(x), int(y), int(w), int(h)), (0, 255, 0), 2)\n",
    "    cv2.imshow('rect', img)\n",
    "    cv2.waitKey()\n",
    "    cv2.destroyAllWindows()"
   ]
  },
  {
   "cell_type": "code",
   "execution_count": 5,
   "metadata": {},
   "outputs": [
    {
     "name": "stdout",
     "output_type": "stream",
     "text": [
      "['../dataset/product_dataset/images\\\\bottom', '../dataset/product_dataset/images\\\\onepiece', '../dataset/product_dataset/images\\\\top']\n",
      "['../dataset/product_dataset/images\\\\bottom\\\\long_skirt', '../dataset/product_dataset/images\\\\bottom\\\\midi_skirt', '../dataset/product_dataset/images\\\\bottom\\\\mini_skirt', '../dataset/product_dataset/images\\\\bottom\\\\shorts']\n"
     ]
    }
   ],
   "source": [
    "label_list = glob.glob('../dataset/product_dataset/images_detect/*')\n",
    "print(label_list)\n",
    "\n",
    "bottom_name_list = glob.glob(f'{label_list[0]}/*')\n",
    "onepiece_name_list = glob.glob(f'{label_list[1]}/*')\n",
    "top_name_list = glob.glob(f'{label_list[2]}/*')\n",
    "print(bottom_name_list)\n",
    "\n",
    "bottom_img_list = []\n",
    "for name in bottom_name_list:\n",
    "    bottom_img_list.extend(glob.glob(f'{name}/*.jpg'))\n",
    "\n",
    "onepiece_img_list = []\n",
    "for name in onepiece_name_list:\n",
    "    onepiece_img_list.extend(glob.glob(f'{name}/*.jpg'))\n",
    "\n",
    "top_img_list = []\n",
    "for name in top_name_list:\n",
    "    top_img_list.extend(glob.glob(f'{name}/*.jpg'))"
   ]
  },
  {
   "cell_type": "code",
   "execution_count": 6,
   "metadata": {},
   "outputs": [
    {
     "name": "stdout",
     "output_type": "stream",
     "text": [
      "['../dataset/product_dataset/images\\\\bottom\\\\long_skirt\\\\long_skirt_0010.jpg', '../dataset/product_dataset/images\\\\bottom\\\\long_skirt\\\\long_skirt_0012.jpg', '../dataset/product_dataset/images\\\\bottom\\\\long_skirt\\\\long_skirt_0019.jpg', '../dataset/product_dataset/images\\\\bottom\\\\long_skirt\\\\long_skirt_0022.jpg', '../dataset/product_dataset/images\\\\bottom\\\\long_skirt\\\\long_skirt_0032.jpg']\n"
     ]
    }
   ],
   "source": [
    "#print(bottom_img_list[:5])"
   ]
  },
  {
   "cell_type": "code",
   "execution_count": 7,
   "metadata": {},
   "outputs": [],
   "source": [
    "for img_path in bottom_img_list:\n",
    "    save_path = img_path.replace('images', 'labels')\n",
    "    delword = save_path.split('\\\\')[-1]\n",
    "    save_path = save_path.replace(f'\\\\{delword}', '')\n",
    "    os.makedirs(save_path, exist_ok= True)\n",
    "    try:\n",
    "        make_bbox_label(img_path, save_path, 0)\n",
    "    except:\n",
    "        #print(img_path)\n",
    "        pass\n",
    "\n",
    "for img_path in onepiece_img_list:\n",
    "    save_path = img_path.replace('images', 'labels')\n",
    "    delword = save_path.split('\\\\')[-1]\n",
    "    save_path = save_path.replace(f'\\\\{delword}', '')\n",
    "    os.makedirs(save_path, exist_ok= True)\n",
    "    try:\n",
    "        make_bbox_label(img_path, save_path, 1)\n",
    "    except:\n",
    "        #print(img_path)\n",
    "        pass\n",
    "\n",
    "for img_path in top_img_list:\n",
    "    save_path = img_path.replace('images', 'labels')\n",
    "    delword = save_path.split('\\\\')[-1]\n",
    "    save_path = save_path.replace(f'\\\\{delword}', '')\n",
    "    os.makedirs(save_path, exist_ok= True)\n",
    "    try:\n",
    "        make_bbox_label(img_path, save_path, 2)\n",
    "    except:\n",
    "        #print(img_path)\n",
    "        pass"
   ]
  },
  {
   "cell_type": "markdown",
   "metadata": {},
   "source": [
    "### 라벨이 있는 데이터만 images 폴더로 추출"
   ]
  },
  {
   "cell_type": "code",
   "execution_count": 10,
   "metadata": {},
   "outputs": [
    {
     "name": "stdout",
     "output_type": "stream",
     "text": [
      "['../dataset/product_dataset/labels\\\\bottom', '../dataset/product_dataset/labels\\\\onepiece', '../dataset/product_dataset/labels\\\\top']\n",
      "['../dataset/product_dataset/labels\\\\bottom\\\\long_skirt', '../dataset/product_dataset/labels\\\\bottom\\\\midi_skirt', '../dataset/product_dataset/labels\\\\bottom\\\\mini_skirt', '../dataset/product_dataset/labels\\\\bottom\\\\shorts']\n",
      "4924\n"
     ]
    }
   ],
   "source": [
    "# labels 폴더에서 목록 가져오기\n",
    "label_list = glob.glob('../dataset/product_dataset/labels/*')\n",
    "print(label_list)\n",
    "\n",
    "bottom_name_list = glob.glob(f'{label_list[0]}/*')\n",
    "onepiece_name_list = glob.glob(f'{label_list[1]}/*')\n",
    "top_name_list = glob.glob(f'{label_list[2]}/*')\n",
    "print(bottom_name_list)\n",
    "\n",
    "bottom_txt_list = []\n",
    "for name in bottom_name_list:\n",
    "    bottom_txt_list.extend(glob.glob(f'{name}/*.txt'))\n",
    "\n",
    "onepiece_txt_list = []\n",
    "for name in onepiece_name_list:\n",
    "    onepiece_txt_list.extend(glob.glob(f'{name}/*.txt'))\n",
    "\n",
    "top_txt_list = []\n",
    "for name in top_name_list:\n",
    "    top_txt_list.extend(glob.glob(f'{name}/*.txt'))\n",
    "\n",
    "print(len(bottom_txt_list) + len(onepiece_txt_list) + len(top_txt_list))"
   ]
  },
  {
   "cell_type": "code",
   "execution_count": 22,
   "metadata": {},
   "outputs": [],
   "source": [
    "def copy_img(txt_list):\n",
    "    for txt in txt_list:\n",
    "        txt = txt.replace('.txt', '.jpg')\n",
    "        origin_path = txt.replace('labels', 'images_detect')\n",
    "\n",
    "        save_path = txt.replace('labels', 'images')\n",
    "        del_word = save_path.split('\\\\')[-1]\n",
    "        save_path = save_path.replace(del_word, '')\n",
    "        os.makedirs(save_path, exist_ok= True)\n",
    "\n",
    "        #print(origin_path)\n",
    "        #print(save_path)\n",
    "        shutil.copy(origin_path, save_path)"
   ]
  },
  {
   "cell_type": "code",
   "execution_count": 23,
   "metadata": {},
   "outputs": [],
   "source": [
    "copy_img(bottom_txt_list)\n",
    "copy_img(onepiece_txt_list)\n",
    "copy_img(top_txt_list)"
   ]
  }
 ],
 "metadata": {
  "kernelspec": {
   "display_name": "RPA_proj",
   "language": "python",
   "name": "python3"
  },
  "language_info": {
   "codemirror_mode": {
    "name": "ipython",
    "version": 3
   },
   "file_extension": ".py",
   "mimetype": "text/x-python",
   "name": "python",
   "nbconvert_exporter": "python",
   "pygments_lexer": "ipython3",
   "version": "3.11.8"
  }
 },
 "nbformat": 4,
 "nbformat_minor": 2
}
