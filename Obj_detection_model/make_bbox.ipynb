{
 "cells": [
  {
   "cell_type": "code",
   "execution_count": 29,
   "metadata": {},
   "outputs": [],
   "source": [
    "import cv2\n",
    "import sys\n",
    "import numpy as np\n",
    "import os\n",
    "import glob\n",
    "from matplotlib import pyplot as plt"
   ]
  },
  {
   "cell_type": "code",
   "execution_count": 30,
   "metadata": {},
   "outputs": [],
   "source": [
    "# https://youbidan.tistory.com/19"
   ]
  },
  {
   "cell_type": "code",
   "execution_count": 31,
   "metadata": {},
   "outputs": [],
   "source": [
    "def make_bbox(img_path):\n",
    "    image = cv2.imread(img_path)\n",
    "    image_gray = cv2.imread(img_path, cv2.IMREAD_GRAYSCALE)\n",
    "\n",
    "    #b,g,r = cv2.split(image)\n",
    "    #image2 = cv2.merge([r,g,b])\n",
    " \n",
    "    #plt.imshow(image2)\n",
    "    #plt.xticks([])\n",
    "    #plt.yticks([])\n",
    "    #plt.show()\n",
    "\n",
    "    cv2.imshow('image', cv2.resize(image, dsize = (0, 0), fx = 0.5, fy = 0.5))\n",
    "    #cv2.imshow('image_gray', image_gray)\n",
    " \n",
    "    cv2.waitKey(0)\n",
    "    cv2.destroyAllWindows()\n",
    "\n",
    "    blur = cv2.GaussianBlur(image_gray, ksize=(3,3), sigmaX=0)\n",
    "    ret, thresh1 = cv2.threshold(blur, 127, 255, cv2.THRESH_BINARY)\n",
    "    # 위 아래중 선택\n",
    "    #blur = cv2.GaussianBlur(image_gray, ksize=(5,5), sigmaX=0)\n",
    "    #ret, thresh1 = cv2.threshold(blur, 127, 255, cv2.THRESH_BINARY)\n",
    "\n",
    "    edged = cv2.Canny(blur, 10, 250)\n",
    "    cv2.imshow('Edged', cv2.resize(edged, dsize = (0, 0), fx = 0.5, fy = 0.5))\n",
    "    cv2.waitKey(0)\n",
    "\n",
    "    kernel = cv2.getStructuringElement(cv2.MORPH_RECT, (7,7))\n",
    "    closed = cv2.morphologyEx(edged, cv2.MORPH_CLOSE, kernel)\n",
    "    cv2.imshow('closed', cv2.resize(closed, dsize = (0, 0), fx = 0.5, fy = 0.5))\n",
    "    cv2.waitKey(0)\n",
    "\n",
    "    contours, _ = cv2.findContours(closed.copy(),cv2.RETR_EXTERNAL, cv2.CHAIN_APPROX_SIMPLE)\n",
    "    total = 0\n",
    "\n",
    "    # 외곽선 그리는 용도. 이미지에 그리기 때문에 이 코드 적용하면 원래 이미지에\n",
    "    # 초록색 선 생김\n",
    "    contours_image = cv2.drawContours(image, contours, -1, (0,255,0), 3)\n",
    "    cv2.imshow('contours_image', cv2.resize(contours_image, dsize = (0, 0), fx = 0.5, fy = 0.5))\n",
    "    cv2.waitKey(0)\n",
    "    cv2.destroyAllWindows()\n",
    "\n",
    "    contours_xy = np.array(contours)\n",
    "    contours_xy.shape\n",
    "\n",
    "    # x의 min과 max 찾기\n",
    "    x_min, x_max = 0, 0\n",
    "    value = list()\n",
    "    for i in range(len(contours_xy)):\n",
    "        for j in range(len(contours_xy[i])):\n",
    "            value.append(contours_xy[i][j][0][0]) #네번째 괄호가 0일때 x의 값\n",
    "            x_min = min(value)\n",
    "            x_max = max(value)\n",
    "    print(x_min)\n",
    "    print(x_max)\n",
    " \n",
    "    # y의 min과 max 찾기\n",
    "    y_min, y_max = 0, 0\n",
    "    value = list()\n",
    "    for i in range(len(contours_xy)):\n",
    "        for j in range(len(contours_xy[i])):\n",
    "            value.append(contours_xy[i][j][0][1]) #네번째 괄호가 0일때 x의 값\n",
    "            y_min = min(value)\n",
    "            y_max = max(value)\n",
    "    print(y_min)\n",
    "    print(y_max)\n",
    "\n",
    "    # image trim 하기\n",
    "    x = x_min\n",
    "    y = y_min\n",
    "    w = x_max-x_min\n",
    "    h = y_max-y_min\n",
    "\n",
    "    img_trim = image[y:y+h, x:x+w]\n",
    "    cv2.imwrite('org_trim.jpg', img_trim)\n",
    "    org_image = cv2.imread('org_trim.jpg')\n",
    "\n",
    "    cv2.imshow('org_image', cv2.resize(org_image, dsize = (0, 0), fx = 0.5, fy = 0.5))\n",
    "    cv2.waitKey(0)\n",
    "    cv2.destroyAllWindows()"
   ]
  },
  {
   "cell_type": "code",
   "execution_count": null,
   "metadata": {},
   "outputs": [],
   "source": []
  },
  {
   "cell_type": "code",
   "execution_count": 32,
   "metadata": {},
   "outputs": [
    {
     "name": "stdout",
     "output_type": "stream",
     "text": [
      "161\n",
      "618\n",
      "330\n",
      "803\n"
     ]
    }
   ],
   "source": [
    "index = 20\n",
    "img_list = glob.glob('../dataset/detection_sample/*.jpg')\n",
    "\n",
    "make_bbox(img_list[index])"
   ]
  }
 ],
 "metadata": {
  "kernelspec": {
   "display_name": "RPA_proj",
   "language": "python",
   "name": "python3"
  },
  "language_info": {
   "codemirror_mode": {
    "name": "ipython",
    "version": 3
   },
   "file_extension": ".py",
   "mimetype": "text/x-python",
   "name": "python",
   "nbconvert_exporter": "python",
   "pygments_lexer": "ipython3",
   "version": "3.11.8"
  }
 },
 "nbformat": 4,
 "nbformat_minor": 2
}
