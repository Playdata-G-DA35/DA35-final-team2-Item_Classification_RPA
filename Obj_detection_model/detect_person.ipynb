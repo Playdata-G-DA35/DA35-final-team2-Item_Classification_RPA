{
 "cells": [
  {
   "cell_type": "code",
   "execution_count": 2,
   "metadata": {},
   "outputs": [],
   "source": [
    "import os\n",
    "import shutil"
   ]
  },
  {
   "cell_type": "code",
   "execution_count": 3,
   "metadata": {},
   "outputs": [],
   "source": [
    "data_path = '../dataset/musinsa_dataset'\n",
    "save_path = 'product_detect_result'\n",
    "weight_path = 'yolov5/models/yolov5s.pt'\n",
    "conf = 0.25\n",
    "# 점프슈트 사람\n",
    "# 롱데님 제품\n",
    "# 롱스커트 사람"
   ]
  },
  {
   "cell_type": "code",
   "execution_count": 13,
   "metadata": {},
   "outputs": [],
   "source": [
    "def extract_product(folder_path, label, cat_name):\n",
    "    os.system(f'python yolov5/detect.py --source {data_path}/{label}/{cat_name} --weights {weight_path} --conf {conf} --save-txt --project {save_path} --name {cat_name}_conf{conf} --classes 0')\n",
    "    cat_name = folder_path.split('/')[-2]\n",
    "    \n",
    "    # 검출된 목록\n",
    "    prsn_list = []\n",
    "    for name in os.listdir(f'{folder_path}/labels'):\n",
    "        prsn_list.append(name.split('.')[0])\n",
    "    \n",
    "    print(len(prsn_list))\n",
    "\n",
    "    for prsn in prsn_list:\n",
    "        os.remove(f'{folder_path}/{prsn}.jpg')\n",
    "    shutil.rmtree(f'{folder_path}/labels')"
   ]
  },
  {
   "cell_type": "code",
   "execution_count": 15,
   "metadata": {},
   "outputs": [],
   "source": [
    "label = 'bottom'\n",
    "cat_name = ['long_skirt', 'midi_skirt','mini_skirt', 'shorts']\n",
    "for name in cat_name:\n",
    "    extract_product(f'{save_path}/{name}_conf{conf}', label, name)"
   ]
  },
  {
   "cell_type": "code",
   "execution_count": null,
   "metadata": {},
   "outputs": [],
   "source": [
    "label = 'onepiece'\n",
    "cat_name = ['jump_suite', 'maxi_onepiece','midi_onepiece', 'mini_onepiece']\n",
    "for name in cat_name:\n",
    "    extract_product(f'{save_path}/{name}_conf{conf}', label, name)"
   ]
  },
  {
   "cell_type": "code",
   "execution_count": null,
   "metadata": {},
   "outputs": [],
   "source": [
    "label = 'top'\n",
    "cat_name = ['half_sleeve', 'hood','sleeveless']\n",
    "for name in cat_name:\n",
    "    extract_product(f'{save_path}/{name}_conf{conf}', label, name)"
   ]
  }
 ],
 "metadata": {
  "kernelspec": {
   "display_name": "env02",
   "language": "python",
   "name": "python3"
  },
  "language_info": {
   "codemirror_mode": {
    "name": "ipython",
    "version": 3
   },
   "file_extension": ".py",
   "mimetype": "text/x-python",
   "name": "python",
   "nbconvert_exporter": "python",
   "pygments_lexer": "ipython3",
   "version": "3.11.8"
  }
 },
 "nbformat": 4,
 "nbformat_minor": 2
}
