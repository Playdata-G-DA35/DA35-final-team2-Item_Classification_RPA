{
 "cells": [
  {
   "cell_type": "code",
   "execution_count": 19,
   "metadata": {},
   "outputs": [],
   "source": [
    "import os"
   ]
  },
  {
   "cell_type": "code",
   "execution_count": 20,
   "metadata": {},
   "outputs": [],
   "source": [
    "data_path = '../dataset/detect_product_sample'\n",
    "save_path = 'product_detect_result'\n",
    "cat_name = 'mini_skirt'\n",
    "weight_path = 'yolov5/models/yolov5s.pt'\n",
    "conf = 0.25\n",
    "# 점프슈트 사람\n",
    "# 롱데님 제품\n",
    "# 롱스커트 사람"
   ]
  },
  {
   "cell_type": "code",
   "execution_count": 21,
   "metadata": {},
   "outputs": [],
   "source": [
    "# os.system(f'python yolov5/detect.py --source {data_path}/{cat_name} --weights {weight_path} --conf {conf} --save-txt --save-csv --save-crop --project {save_path}/{cat_name} --name conf{conf} --classes 0')"
   ]
  },
  {
   "cell_type": "code",
   "execution_count": 22,
   "metadata": {},
   "outputs": [],
   "source": [
    "# !python yolov5/detect.py --source {data_path}/{cat_name} --weights {weight_path} --conf {conf} --save-txt --save-csv --save-crop --project {save_path}/{cat_name} --name conf{conf} --classes 0"
   ]
  },
  {
   "cell_type": "code",
   "execution_count": 23,
   "metadata": {},
   "outputs": [],
   "source": [
    "def extract_product(folder_path):\n",
    "    cat_name = folder_path.split('/')[-2]\n",
    "    prdt_list = []\n",
    "    for name in os.listdir(folder_path):\n",
    "        prdt_list.append(name.split('.')[0])\n",
    "    \n",
    "    prsn_list = []\n",
    "    for name in os.listdir(f'{folder_path}/labels'):\n",
    "        prsn_list.append(name.split('.')[0])\n",
    "\n",
    "    for prsn in prsn_list:\n",
    "        try:\n",
    "            prdt_list.remove(prsn)\n",
    "        except:\n",
    "            pass\n",
    "\n",
    "    prdt_list.remove('crops')\n",
    "    prdt_list.remove('labels')\n",
    "    prdt_list.remove('predictions')\n",
    "\n",
    "    return prdt_list"
   ]
  },
  {
   "cell_type": "code",
   "execution_count": 25,
   "metadata": {},
   "outputs": [
    {
     "name": "stdout",
     "output_type": "stream",
     "text": [
      "518\n"
     ]
    }
   ],
   "source": [
    "a = extract_product(f'{save_path}/{cat_name}/conf{conf}')\n",
    "print(len(a))"
   ]
  }
 ],
 "metadata": {
  "kernelspec": {
   "display_name": "env02",
   "language": "python",
   "name": "python3"
  },
  "language_info": {
   "codemirror_mode": {
    "name": "ipython",
    "version": 3
   },
   "file_extension": ".py",
   "mimetype": "text/x-python",
   "name": "python",
   "nbconvert_exporter": "python",
   "pygments_lexer": "ipython3",
   "version": "3.11.8"
  }
 },
 "nbformat": 4,
 "nbformat_minor": 2
}
