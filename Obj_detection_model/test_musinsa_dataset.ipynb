{
 "cells": [
  {
   "cell_type": "code",
   "execution_count": 4,
   "metadata": {},
   "outputs": [],
   "source": [
    "import test_method\n",
    "import os\n",
    "import numpy as np"
   ]
  },
  {
   "cell_type": "code",
   "execution_count": 5,
   "metadata": {},
   "outputs": [
    {
     "name": "stdout",
     "output_type": "stream",
     "text": [
      "['0.3', '0.4']\n"
     ]
    }
   ],
   "source": [
    "# test set의 경로\n",
    "bottom_path = '../dataset/test_set_flip/bottom'\n",
    "onepiece_path = '../dataset/test_set_flip/onepiece'\n",
    "top_path = '../dataset/test_set_flip/top'\n",
    "\n",
    "# \n",
    "bottom_path_list, _ = test_method.make_path_list(bottom_path)\n",
    "onepiece_path_list, _ = test_method.make_path_list(onepiece_path)\n",
    "top_path_list, _ = test_method.make_path_list(top_path)\n",
    "\n",
    "# 사용할 confidence 값\n",
    "conf_list = []\n",
    "for idx in range(3,5):\n",
    "    conf_list.append(f'0.{idx}')\n",
    "print(conf_list)"
   ]
  },
  {
   "cell_type": "code",
   "execution_count": 6,
   "metadata": {},
   "outputs": [],
   "source": [
    "def test_musinsa_dataset(weight, save_path, conf_list):\n",
    "    name = save_path.split('/')[-1]\n",
    "\n",
    "    for conf in conf_list:\n",
    "        folder_name = f'{name}_{conf}conf'\n",
    "        \n",
    "        for bottom_path in bottom_path_list:\n",
    "            test_method.test_by_musinsa(bottom_path, weight, save_path, folder_name, conf)\n",
    "\n",
    "        for onepiece_path in onepiece_path_list:\n",
    "            test_method.test_by_musinsa(onepiece_path, weight, save_path, folder_name, conf)\n",
    "\n",
    "        for top_path in top_path_list:\n",
    "            test_method.test_by_musinsa(top_path, weight, save_path, folder_name, conf)"
   ]
  },
  {
   "cell_type": "code",
   "execution_count": 7,
   "metadata": {},
   "outputs": [],
   "source": [
    "#weight = 'exp_result/s_20000_3(batch_32_80epoch_4.2hr)/weights/last.pt'\n",
    "#save = 'test_result/20000img_80epoch'"
   ]
  },
  {
   "cell_type": "code",
   "execution_count": 8,
   "metadata": {},
   "outputs": [],
   "source": [
    "weight = 'exp_result/s_40000_(batch48_100epoch_10.4hr)/weights/last.pt'\n",
    "save = 'test_result/40000img_100epoch'"
   ]
  },
  {
   "cell_type": "code",
   "execution_count": 9,
   "metadata": {},
   "outputs": [],
   "source": [
    "#weight = 'exp_result/result_50000_80ep/weights/last.pt'\n",
    "#save = 'test_result/50000img_50epoch'"
   ]
  },
  {
   "cell_type": "code",
   "execution_count": 10,
   "metadata": {},
   "outputs": [],
   "source": [
    "test_musinsa_dataset(weight, save, conf_list)"
   ]
  }
 ],
 "metadata": {
  "kernelspec": {
   "display_name": "RPA_proj",
   "language": "python",
   "name": "python3"
  },
  "language_info": {
   "codemirror_mode": {
    "name": "ipython",
    "version": 3
   },
   "file_extension": ".py",
   "mimetype": "text/x-python",
   "name": "python",
   "nbconvert_exporter": "python",
   "pygments_lexer": "ipython3",
   "version": "3.8.19"
  }
 },
 "nbformat": 4,
 "nbformat_minor": 2
}
