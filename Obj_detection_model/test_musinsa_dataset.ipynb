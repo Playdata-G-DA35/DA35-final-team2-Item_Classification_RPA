{
 "cells": [
  {
   "cell_type": "code",
   "execution_count": 10,
   "metadata": {},
   "outputs": [],
   "source": [
    "import test_method\n",
    "import os\n",
    "import numpy as np"
   ]
  },
  {
   "cell_type": "code",
   "execution_count": 11,
   "metadata": {},
   "outputs": [],
   "source": [
    "# test set의 경로\n",
    "bottom_path = '../dataset/test_set/bottom'\n",
    "onepiece_path = '../dataset/test_set/onepiece'\n",
    "top_path = '../dataset/test_set/top'"
   ]
  },
  {
   "cell_type": "code",
   "execution_count": 12,
   "metadata": {},
   "outputs": [],
   "source": [
    "bottom_path_list, _ = test_method.make_path_list(bottom_path)\n",
    "onepiece_path_list, _ = test_method.make_path_list(onepiece_path)\n",
    "top_path_list, _ = test_method.make_path_list(top_path)\n",
    "\n",
    "#print(bottom_path_list)\n",
    "#print(onepiece_path_list)\n",
    "#print(top_path_list)"
   ]
  },
  {
   "cell_type": "code",
   "execution_count": 13,
   "metadata": {},
   "outputs": [
    {
     "name": "stdout",
     "output_type": "stream",
     "text": [
      "['0.1', '0.2', '0.3', '0.4', '0.5', '0.6', '0.7', '0.8', '0.9']\n"
     ]
    }
   ],
   "source": [
    "conf_list = []\n",
    "for idx in range(1,10):\n",
    "    conf_list.append(f'0.{idx}')\n",
    "print(conf_list)"
   ]
  },
  {
   "cell_type": "code",
   "execution_count": 14,
   "metadata": {},
   "outputs": [],
   "source": [
    "# weight = 'exp_result/s_20000_3(batch_32_80epoch_4.2hr)/weights/last.pt'\n",
    "# save = 'test_result/20000img_80epoch'\n",
    "# folder_name = f'20000img_80epoch_{conf}conf'"
   ]
  },
  {
   "cell_type": "code",
   "execution_count": 15,
   "metadata": {},
   "outputs": [],
   "source": [
    "#weight = 'exp_result/s_40000_(batch48_100epoch_10.4hr)/weights/last.pt'\n",
    "#save = 'test_result/40000img_100epoch'\n",
    "# folder_name = f'40000img_100epoch_{conf}conf'"
   ]
  },
  {
   "cell_type": "code",
   "execution_count": 16,
   "metadata": {},
   "outputs": [],
   "source": [
    "weight = 'exp_result/result_50000_80ep/weights/last.pt'\n",
    "save = 'test_result/50000img_50epoch'\n",
    "# folder_name = f'50000img_80epoch_{conf}conf'\n"
   ]
  },
  {
   "cell_type": "code",
   "execution_count": 17,
   "metadata": {},
   "outputs": [],
   "source": [
    "for conf in conf_list:\n",
    "    # 위에서 복사해서 변경\n",
    "    folder_name = f'50000img_100epoch_{conf}conf'\n",
    "    \n",
    "    for bottom_path in bottom_path_list:\n",
    "        test_method.test_by_musinsa(bottom_path, weight, save, folder_name, conf)\n",
    "\n",
    "    for onepiece_path in onepiece_path_list:\n",
    "        test_method.test_by_musinsa(onepiece_path, weight, save, folder_name, conf)\n",
    "\n",
    "    for top_path in top_path_list:\n",
    "        test_method.test_by_musinsa(top_path, weight, save, folder_name, conf)"
   ]
  },
  {
   "cell_type": "code",
   "execution_count": null,
   "metadata": {},
   "outputs": [],
   "source": [
    "# for bottom_path in bottom_path_list:\n",
    "#     test_method.test_by_musinsa(bottom_path, weight, save, folder_name, conf)\n",
    "\n",
    "# for onepiece_path in onepiece_path_list:\n",
    "#     test_method.test_by_musinsa(onepiece_path, weight, save, folder_name, conf)\n",
    "\n",
    "# for top_path in top_path_list:\n",
    "#     test_method.test_by_musinsa(top_path, weight, save, folder_name, conf)"
   ]
  }
 ],
 "metadata": {
  "kernelspec": {
   "display_name": "RPA_proj",
   "language": "python",
   "name": "python3"
  },
  "language_info": {
   "codemirror_mode": {
    "name": "ipython",
    "version": 3
   },
   "file_extension": ".py",
   "mimetype": "text/x-python",
   "name": "python",
   "nbconvert_exporter": "python",
   "pygments_lexer": "ipython3",
   "version": "3.11.8"
  }
 },
 "nbformat": 4,
 "nbformat_minor": 2
}
