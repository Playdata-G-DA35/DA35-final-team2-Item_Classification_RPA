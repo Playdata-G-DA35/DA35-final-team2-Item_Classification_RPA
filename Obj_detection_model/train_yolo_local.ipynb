{
 "cells": [
  {
   "cell_type": "code",
   "execution_count": 11,
   "metadata": {},
   "outputs": [],
   "source": [
    "#%cd yolov5\n",
    "#!pip install -r requirements.txt\n",
    "#!pip install glob2\n",
    "#!pip install"
   ]
  },
  {
   "cell_type": "code",
   "execution_count": 12,
   "metadata": {},
   "outputs": [
    {
     "data": {
      "text/plain": [
       "'c:\\\\Users\\\\ihman\\\\Desktop\\\\Dev\\\\RPA_proj_local\\\\Obj_detection_model'"
      ]
     },
     "execution_count": 12,
     "metadata": {},
     "output_type": "execute_result"
    }
   ],
   "source": [
    "# 시작 경로는 Obj_detection_model 이어야함\n",
    "%pwd"
   ]
  },
  {
   "cell_type": "code",
   "execution_count": 13,
   "metadata": {},
   "outputs": [
    {
     "name": "stdout",
     "output_type": "stream",
     "text": [
      "26700\n",
      "26700\n"
     ]
    }
   ],
   "source": [
    "# train data\n",
    "from glob import glob\n",
    "img_li1 = glob('../dataset/yolo_dataset/images/top/*.jpg')\n",
    "img_li2 = glob('../dataset/yolo_dataset/labels/top/*.txt')\n",
    "print(len(img_li1))\n",
    "print(len(img_li2))"
   ]
  },
  {
   "cell_type": "code",
   "execution_count": 14,
   "metadata": {},
   "outputs": [],
   "source": [
    "import os\n",
    "# yolo 모델 루트 디렉토리 경로\n",
    "root_dir = \"Obj_detection_model/yolov5/\"\n",
    "\n",
    "# 이미지, 라벨 디렉토리 경로\n",
    "img_dir = '../dataset/yolo_dataset/images'\n",
    "label_dir = '../dataset/yolo_dataset/labels'\n",
    "\n",
    "# 상의. 하의 . 하의_상의. 원피스 각각의 이미지 파일을 리스트에 저장해주기\n",
    "img_top = glob(img_dir + r'/top/*.jpg')\n",
    "img_pants = glob(img_dir + r'/bottom/*.jpg')\n",
    "img_tppt = glob(img_dir + r'/top_bottom/*.jpg')\n",
    "img_onepi = glob(img_dir + r'/onepiece/*.jpg')\n",
    "\n",
    "# 상의. 하의 . 하의_상의. 원피스 각각의 bbox 파일을 리스트에 저장해주기\n",
    "label_top = glob(label_dir + r'/top/*.txt')\n",
    "label_pants = glob(label_dir + r'/bottom/*.txt')\n",
    "label_tppt = glob(label_dir + r'/top_bottom/*.txt')\n",
    "label_onepi = glob(label_dir + r'/onepiece/*.txt')"
   ]
  },
  {
   "cell_type": "code",
   "execution_count": 15,
   "metadata": {},
   "outputs": [
    {
     "name": "stdout",
     "output_type": "stream",
     "text": [
      "8000\n",
      "2000\n",
      "2000\n"
     ]
    }
   ],
   "source": [
    "## test, val, train 데이터 분리 - 10000장\n",
    "# train : val = 4 : 1\n",
    "num_of_data_set = 10000\n",
    "train_num = (num_of_data_set//20)*4\n",
    "val_num = (num_of_data_set//20)*5\n",
    "\n",
    "# top\n",
    "train_img_top = img_top[:train_num]\n",
    "val_img_top = img_top[train_num:val_num]\n",
    "test_img_top = img_top[-500:]\n",
    "# pants\n",
    "train_img_pants = img_pants[:train_num]\n",
    "val_img_pants = img_pants[train_num:val_num]\n",
    "test_img_pants = img_pants[-500:]\n",
    "# top_pants\n",
    "train_img_tppt = img_tppt[:train_num]\n",
    "val_img_tppt = img_tppt[train_num:val_num]\n",
    "test_img_tppt = img_tppt[-500:]\n",
    "# one piece\n",
    "train_img_onepi = img_onepi[:train_num]\n",
    "val_img_onepi = img_onepi[train_num:val_num]\n",
    "test_img_onepi = img_onepi[-500:]\n",
    "\n",
    "train_img_list = train_img_top + train_img_pants + train_img_tppt + train_img_onepi\n",
    "val_img_list = val_img_top + val_img_pants + val_img_tppt + val_img_onepi\n",
    "test_img_list = test_img_top + test_img_pants + test_img_tppt + test_img_onepi\n",
    "print(len(train_img_list))\n",
    "print(len(val_img_list))\n",
    "print(len(test_img_list))"
   ]
  },
  {
   "cell_type": "code",
   "execution_count": 16,
   "metadata": {},
   "outputs": [
    {
     "data": {
      "text/plain": [
       "'c:\\\\Users\\\\ihman\\\\Desktop\\\\Dev\\\\RPA_proj_local\\\\Obj_detection_model'"
      ]
     },
     "execution_count": 16,
     "metadata": {},
     "output_type": "execute_result"
    }
   ],
   "source": [
    "%pwd"
   ]
  },
  {
   "cell_type": "code",
   "execution_count": 17,
   "metadata": {},
   "outputs": [],
   "source": [
    "with open('../dataset/yolo_dataset/train.txt', 'w') as f:\n",
    "  for item in train_img_list:\n",
    "    f.write(f'{item}\\n')\n",
    "  #for item in train_label_list:\n",
    "  #  f.write(f'../{item}\\n')\n",
    "\n",
    "with open('../dataset/yolo_dataset/val.txt', 'w') as f:\n",
    "  for item in val_img_list:\n",
    "    f.write(f'{item}\\n')\n",
    "  #for item in val_label_list:\n",
    "  #  f.write(f'../{item}\\n')"
   ]
  },
  {
   "cell_type": "code",
   "execution_count": 18,
   "metadata": {},
   "outputs": [
    {
     "name": "stdout",
     "output_type": "stream",
     "text": [
      "{'names': {0: 'Bottom', 1: 'One piece', 2: 'Top'}, 'path': '../../dataset/yolo_dataset', 'train': 'train.txt', 'val': 'val.txt'}\n"
     ]
    }
   ],
   "source": [
    "import yaml\n",
    "\n",
    "data = {\n",
    "    \"path\" : '../../dataset/yolo_dataset',\n",
    "    \"train\" : 'train.txt',\n",
    "    \"val\" : 'val.txt',\n",
    "    # \"test\" : '/tld_sample/test/', # optional\n",
    "    \"names\" : {0 : 'Bottom', 1 : 'One piece', 2 : 'Top'}}\n",
    "\n",
    "with open('../dataset/yolo_dataset/data.yaml', 'w') as f :\n",
    "    yaml.dump(data, f)\n",
    "\n",
    "# check written file\n",
    "with open('../dataset/yolo_dataset/data.yaml', 'r') as f :\n",
    "    lines = yaml.safe_load(f)\n",
    "    print(lines)"
   ]
  },
  {
   "cell_type": "code",
   "execution_count": 19,
   "metadata": {},
   "outputs": [
    {
     "data": {
      "text/plain": [
       "'c:\\\\Users\\\\ihman\\\\Desktop\\\\Dev\\\\RPA_proj_local\\\\Obj_detection_model'"
      ]
     },
     "execution_count": 19,
     "metadata": {},
     "output_type": "execute_result"
    }
   ],
   "source": [
    "%pwd"
   ]
  },
  {
   "cell_type": "code",
   "execution_count": 20,
   "metadata": {},
   "outputs": [],
   "source": [
    "#!python yolov5/train.py --imgsz 640 --batch 48 --epochs 100 --data ../dataset/yolo_dataset/data.yaml --cfg yolov5/models/yolov5s.yaml --weights yolov5/yolov5s.pt --name s_10000_ --device 0"
   ]
  }
 ],
 "metadata": {
  "kernelspec": {
   "display_name": "RPA_proj",
   "language": "python",
   "name": "python3"
  },
  "language_info": {
   "codemirror_mode": {
    "name": "ipython",
    "version": 3
   },
   "file_extension": ".py",
   "mimetype": "text/x-python",
   "name": "python",
   "nbconvert_exporter": "python",
   "pygments_lexer": "ipython3",
   "version": "3.8.19"
  }
 },
 "nbformat": 4,
 "nbformat_minor": 2
}
