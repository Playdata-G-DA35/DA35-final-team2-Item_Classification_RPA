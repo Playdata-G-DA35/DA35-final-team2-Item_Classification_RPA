{
 "cells": [
  {
   "cell_type": "code",
   "execution_count": 42,
   "metadata": {},
   "outputs": [],
   "source": [
    "import cv2\n",
    "import os\n",
    "import glob"
   ]
  },
  {
   "cell_type": "code",
   "execution_count": 43,
   "metadata": {},
   "outputs": [],
   "source": [
    "folder_path = '../dataset/test_set'\n",
    "label_list = ['bottom', 'onepiece', 'top']"
   ]
  },
  {
   "cell_type": "code",
   "execution_count": 44,
   "metadata": {},
   "outputs": [],
   "source": [
    "def make_flip_image(folder_path, label_list):    \n",
    "    bottom_cat_list = os.listdir(f'{folder_path}/{label_list[0]}')\n",
    "    onepiece_cat_list = os.listdir(f'{folder_path}/{label_list[1]}')\n",
    "    top_cat_list = os.listdir(f'{folder_path}/{label_list[2]}')\n",
    "    #dataset\\test_set\\bottom\\long_cotton\\person\n",
    "\n",
    "    img_path_list = []\n",
    "\n",
    "    for name in bottom_cat_list:\n",
    "        img_path_list.extend(glob.glob(f'{folder_path}/{label_list[0]}/{name}/person/*.jpg'))\n",
    "        img_path_list.extend(glob.glob(f'{folder_path}/{label_list[0]}/{name}/product/*.jpg'))\n",
    "\n",
    "    for name in onepiece_cat_list:\n",
    "        img_path_list.extend(glob.glob(f'{folder_path}/{label_list[1]}/{name}/person/*.jpg'))\n",
    "        img_path_list.extend(glob.glob(f'{folder_path}/{label_list[1]}/{name}/product/*.jpg'))\n",
    "\n",
    "    for name in top_cat_list:\n",
    "        img_path_list.extend(glob.glob(f'{folder_path}/{label_list[2]}/{name}/person/*.jpg'))\n",
    "        img_path_list.extend(glob.glob(f'{folder_path}/{label_list[2]}/{name}/product/*.jpg'))\n",
    "\n",
    "    print(len(img_path_list))\n",
    "\n",
    "    for img_path in img_path_list:\n",
    "        img = cv2.imread(img_path)\n",
    "        fliped_img = cv2.flip(img, 0)\n",
    "        save_path = img_path.replace('test_set', 'test_set_flip')\n",
    "        #print(save_path)\n",
    "        cv2.imwrite(save_path, fliped_img)"
   ]
  },
  {
   "cell_type": "code",
   "execution_count": 45,
   "metadata": {},
   "outputs": [
    {
     "name": "stdout",
     "output_type": "stream",
     "text": [
      "1000\n"
     ]
    }
   ],
   "source": [
    "make_flip_image(folder_path, label_list)"
   ]
  }
 ],
 "metadata": {
  "kernelspec": {
   "display_name": "RPA_proj",
   "language": "python",
   "name": "python3"
  },
  "language_info": {
   "codemirror_mode": {
    "name": "ipython",
    "version": 3
   },
   "file_extension": ".py",
   "mimetype": "text/x-python",
   "name": "python",
   "nbconvert_exporter": "python",
   "pygments_lexer": "ipython3",
   "version": "3.11.8"
  }
 },
 "nbformat": 4,
 "nbformat_minor": 2
}
