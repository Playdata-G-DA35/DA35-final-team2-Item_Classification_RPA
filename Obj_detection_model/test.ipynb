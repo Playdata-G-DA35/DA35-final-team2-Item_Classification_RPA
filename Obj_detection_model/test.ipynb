{
 "cells": [
  {
   "cell_type": "code",
   "execution_count": null,
   "metadata": {},
   "outputs": [],
   "source": [
    "import os\n",
    "\n",
    "def unzip_data(file_name_list, output_dir_list):\n",
    "    for idx in range(len(file_name_list)):\n",
    "        os.system(\"unzip \" + file_name_list[idx] + \" -d\" + output_dir_list[idx])"
   ]
  },
  {
   "cell_type": "code",
   "execution_count": null,
   "metadata": {},
   "outputs": [],
   "source": [
    "file_name_list = ['images_bottom.zip',\n",
    "                  'images_onepiece.zip',\n",
    "                  'images_top.zip',\n",
    "                  'images_top_bottom.zip',\n",
    "                  'labels_bottom.zip',\n",
    "                  'labels_onepiece.zip',\n",
    "                  'labels_top.zip',\n",
    "                  'labels_top_bottom.zip']\n",
    "\n",
    "output_dir_list = ['/content/drive/MyDrive/model_Yolo/yolo_data/images/bottom',\n",
    "                   '/content/drive/MyDrive/model_Yolo/yolo_data/images/onepiece',\n",
    "                   '/content/drive/MyDrive/model_Yolo/yolo_data/images/top',\n",
    "                   '/content/drive/MyDrive/model_Yolo/yolo_data/images/top_bottom',\n",
    "                   '/content/drive/MyDrive/model_Yolo/yolo_data/labels/bottom',\n",
    "                   '/content/drive/MyDrive/model_Yolo/yolo_data/labels/onepiece',\n",
    "                   '/content/drive/MyDrive/model_Yolo/yolo_data/labels/top',\n",
    "                   '/content/drive/MyDrive/model_Yolo/yolo_data/labels/top_bottom']"
   ]
  },
  {
   "cell_type": "code",
   "execution_count": null,
   "metadata": {},
   "outputs": [],
   "source": [
    "file_name_list = ['sample.zip']\n",
    "output_dir_list = ['/content/drive/MyDrive/model_Yolo/yolo_data/images/bottom',\n",
    "                   '/content/drive/MyDrive/model_Yolo/yolo_data/images/onepiece',\n",
    "                   '/content/drive/MyDrive/model_Yolo/yolo_data/images/top',\n",
    "                   '/content/drive/MyDrive/model_Yolo/yolo_data/images/top_bottom',\n",
    "                   '/content/drive/MyDrive/model_Yolo/yolo_data/labels/bottom',\n",
    "                   '/content/drive/MyDrive/model_Yolo/yolo_data/labels/onepiece',\n",
    "                   '/content/drive/MyDrive/model_Yolo/yolo_data/labels/top',\n",
    "                   '/content/drive/MyDrive/model_Yolo/yolo_data/labels/top_bottom']"
   ]
  },
  {
   "cell_type": "code",
   "execution_count": null,
   "metadata": {},
   "outputs": [],
   "source": [
    "unzip_data(file_name_list, output_dir_list)"
   ]
  },
  {
   "cell_type": "code",
   "execution_count": null,
   "metadata": {},
   "outputs": [],
   "source": [
    "from typing import Tuple\n",
    "from glob import glob\n",
    "import time\n",
    "\n",
    "img1 = glob(\"/content/drive/MyDrive/model_Yolo/yolo_dataset/image/bottom\")\n",
    "img2 = glob(\"/content/drive/MyDrive/model_Yolo/yolo_dataset/image/onepiece\")\n",
    "img3 = glob(\"/content/drive/MyDrive/model_Yolo/yolo_dataset/image/top\")\n",
    "img4 = glob(\"/content/drive/MyDrive/model_Yolo/yolo_dataset/image/top_bottom\")\n",
    "\n",
    "label1 = glob(\"/content/drive/MyDrive/model_Yolo/yolo_dataset/label/bottom\")\n",
    "label2 = glob(\"/content/drive/MyDrive/model_Yolo/yolo_dataset/label/onepiece\")\n",
    "label3 = glob(\"/content/drive/MyDrive/model_Yolo/yolo_dataset/label/top\")\n",
    "label4 = glob(\"/content/drive/MyDrive/model_Yolo/yolo_dataset/label/top_bottom\")\n",
    "\n",
    "while True:\n",
    "    if(len(img1)== 18556 and len(label1) == 18556):\n",
    "        if(len(img2)== 20849 and len(label2) == 20849):\n",
    "            if(len(img3)== 26700 and len(label3) == 26700):\n",
    "                if(len(img4)== 43750 and len(label4) == 43750):\n",
    "                    break\n",
    "    time.sleep(5)"
   ]
  }
 ],
 "metadata": {
  "language_info": {
   "name": "python"
  }
 },
 "nbformat": 4,
 "nbformat_minor": 2
}
