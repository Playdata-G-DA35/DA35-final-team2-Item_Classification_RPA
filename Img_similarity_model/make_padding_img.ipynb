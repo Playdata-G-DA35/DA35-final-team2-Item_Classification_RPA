{
 "cells": [
  {
   "cell_type": "code",
   "execution_count": 37,
   "metadata": {},
   "outputs": [],
   "source": [
    "import cv2\n",
    "import numpy as np\n",
    "import glob\n",
    "import os"
   ]
  },
  {
   "cell_type": "code",
   "execution_count": 33,
   "metadata": {},
   "outputs": [],
   "source": [
    "def change_padding_img(img_path):\n",
    "    img = cv2.imread(img_path)\n",
    "\n",
    "    h, w, c = img.shape\n",
    "    \n",
    "    if h > w: # 세로가 큰 경우\n",
    "        padding_size = int((h-w)/2)\n",
    "        img = cv2.copyMakeBorder(img, 0, 0, padding_size, padding_size, cv2.BORDER_REPLICATE)\n",
    "    elif w > h: # 가로가 큰 경우\n",
    "        padding_size = int((w-h)/2)\n",
    "        img = cv2.copyMakeBorder(img, padding_size, padding_size, 0, 0, cv2.BORDER_REPLICATE)\n",
    "    elif h == w:\n",
    "        pass\n",
    "    \n",
    "    #cv2.imshow(\"img\", img)\n",
    "    #cv2.waitKey()\n",
    "    #cv2.destroyAllWindows()\n",
    "\n",
    "    # 이미지 저장하기\n",
    "    cv2.imwrite(img_path, img)"
   ]
  },
  {
   "cell_type": "code",
   "execution_count": 34,
   "metadata": {},
   "outputs": [],
   "source": [
    "data_path = '../dataset/resnet_dataset_padding'"
   ]
  },
  {
   "cell_type": "code",
   "execution_count": 47,
   "metadata": {},
   "outputs": [
    {
     "name": "stdout",
     "output_type": "stream",
     "text": [
      "['../dataset/resnet_dataset_padding\\\\bottom\\\\long\\\\long_cotton_0000.jpg', '../dataset/resnet_dataset_padding\\\\bottom\\\\long\\\\long_cotton_0001.jpg', '../dataset/resnet_dataset_padding\\\\bottom\\\\long\\\\long_cotton_0002.jpg', '../dataset/resnet_dataset_padding\\\\bottom\\\\long\\\\long_cotton_0004.jpg', '../dataset/resnet_dataset_padding\\\\bottom\\\\long\\\\long_cotton_0006.jpg']\n",
      "48863\n"
     ]
    }
   ],
   "source": [
    "label_list = glob.glob(f'{data_path}/*')\n",
    "#print(label_list)\n",
    "\n",
    "folder_list = []\n",
    "for name in label_list:\n",
    "    folder_list.extend(glob.glob(f'{name}/*'))\n",
    "#print(folder_list)\n",
    "\n",
    "file_list = []\n",
    "for folder in folder_list:\n",
    "    file_list.extend(glob.glob(f'{folder}/*.jpg'))\n",
    "\n",
    "#print(file_list[:5])\n",
    "#print(len(file_list))"
   ]
  },
  {
   "cell_type": "code",
   "execution_count": 50,
   "metadata": {},
   "outputs": [],
   "source": [
    "for file in file_list:\n",
    "    change_padding_img(file)"
   ]
  }
 ],
 "metadata": {
  "kernelspec": {
   "display_name": "env02",
   "language": "python",
   "name": "python3"
  },
  "language_info": {
   "codemirror_mode": {
    "name": "ipython",
    "version": 3
   },
   "file_extension": ".py",
   "mimetype": "text/x-python",
   "name": "python",
   "nbconvert_exporter": "python",
   "pygments_lexer": "ipython3",
   "version": "3.11.8"
  }
 },
 "nbformat": 4,
 "nbformat_minor": 2
}
